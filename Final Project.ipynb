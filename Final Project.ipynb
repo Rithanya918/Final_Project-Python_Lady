{
 "cells": [
  {
   "cell_type": "markdown",
   "id": "e1162082-10fd-4196-bad3-a8f7b71125fc",
   "metadata": {
    "id": "e1162082-10fd-4196-bad3-a8f7b71125fc"
   },
   "source": [
    "## Final Project"
   ]
  }
 ],
 "metadata": {
  "colab": {
   "provenance": []
  },
  "kernelspec": {
   "display_name": "Python [conda env:base] *",
   "language": "python",
   "name": "conda-base-py"
  },
  "language_info": {
   "codemirror_mode": {
    "name": "ipython",
    "version": 3
   },
   "file_extension": ".py",
   "mimetype": "text/x-python",
   "name": "python",
   "nbconvert_exporter": "python",
   "pygments_lexer": "ipython3",
   "version": "3.12.7"
  }
 },
 "nbformat": 4,
 "nbformat_minor": 5
}

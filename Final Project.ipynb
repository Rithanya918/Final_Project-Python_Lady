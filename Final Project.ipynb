{
 "cells": [
  {
   "cell_type": "markdown",
   "id": "e1162082-10fd-4196-bad3-a8f7b71125fc",
   "metadata": {
    "id": "e1162082-10fd-4196-bad3-a8f7b71125fc"
   },
   "source": [
    "## Final Project\n",
    "\n",
    "ISM6644 – Python Fundamentals for Business Analytics\n",
    "Dr. Tala Mirzaei\n",
    "\n",
    "Tanairis Janes \n",
    "Yukti Kamthan \n",
    "Rithanya Sekar \n",
    "Theodore Atis"
   ]
  },
  {
   "cell_type": "code",
   "execution_count": 299,
   "id": "f2c4e0f3-2559-4fe4-a0e3-6acccc777d21",
   "metadata": {},
   "outputs": [
    {
     "data": {
      "text/html": [
       "<div>\n",
       "<style scoped>\n",
       "    .dataframe tbody tr th:only-of-type {\n",
       "        vertical-align: middle;\n",
       "    }\n",
       "\n",
       "    .dataframe tbody tr th {\n",
       "        vertical-align: top;\n",
       "    }\n",
       "\n",
       "    .dataframe thead th {\n",
       "        text-align: right;\n",
       "    }\n",
       "</style>\n",
       "<table border=\"1\" class=\"dataframe\">\n",
       "  <thead>\n",
       "    <tr style=\"text-align: right;\">\n",
       "      <th></th>\n",
       "      <th>Service</th>\n",
       "      <th>Age</th>\n",
       "      <th>CustomerSince</th>\n",
       "      <th>Customer Gender</th>\n",
       "      <th>Region</th>\n",
       "      <th>SupportCallsLastYear</th>\n",
       "      <th>AverageBill</th>\n",
       "      <th>ChurnIndicator</th>\n",
       "      <th>Satisfaction Score</th>\n",
       "      <th>Unnamed: 9</th>\n",
       "      <th>Unnamed: 10</th>\n",
       "    </tr>\n",
       "  </thead>\n",
       "  <tbody>\n",
       "    <tr>\n",
       "      <th>0</th>\n",
       "      <td>fiber</td>\n",
       "      <td>29</td>\n",
       "      <td>6/23/2010 10:27</td>\n",
       "      <td>M</td>\n",
       "      <td>North</td>\n",
       "      <td>2</td>\n",
       "      <td>61.0</td>\n",
       "      <td>0.32</td>\n",
       "      <td>5.0</td>\n",
       "      <td>NaN</td>\n",
       "      <td>NaN</td>\n",
       "    </tr>\n",
       "    <tr>\n",
       "      <th>1</th>\n",
       "      <td>4G</td>\n",
       "      <td>74</td>\n",
       "      <td>6/23/2010 10:27</td>\n",
       "      <td>M</td>\n",
       "      <td>North</td>\n",
       "      <td>0</td>\n",
       "      <td>48.0</td>\n",
       "      <td>0.02</td>\n",
       "      <td>3.0</td>\n",
       "      <td>NaN</td>\n",
       "      <td>NaN</td>\n",
       "    </tr>\n",
       "    <tr>\n",
       "      <th>2</th>\n",
       "      <td>phone</td>\n",
       "      <td>34</td>\n",
       "      <td>6/23/2010 10:27</td>\n",
       "      <td>F</td>\n",
       "      <td>Central</td>\n",
       "      <td>0</td>\n",
       "      <td>34.0</td>\n",
       "      <td>0.02</td>\n",
       "      <td>4.0</td>\n",
       "      <td>NaN</td>\n",
       "      <td>NaN</td>\n",
       "    </tr>\n",
       "    <tr>\n",
       "      <th>3</th>\n",
       "      <td>phone</td>\n",
       "      <td>60</td>\n",
       "      <td>6/24/2010 10:27</td>\n",
       "      <td>M</td>\n",
       "      <td>North</td>\n",
       "      <td>5</td>\n",
       "      <td>70.0</td>\n",
       "      <td>0.23</td>\n",
       "      <td>5.0</td>\n",
       "      <td>NaN</td>\n",
       "      <td>NaN</td>\n",
       "    </tr>\n",
       "    <tr>\n",
       "      <th>4</th>\n",
       "      <td>landline</td>\n",
       "      <td>29</td>\n",
       "      <td>6/24/2010 10:27</td>\n",
       "      <td>M</td>\n",
       "      <td>Central</td>\n",
       "      <td>5</td>\n",
       "      <td>40.0</td>\n",
       "      <td>0.09</td>\n",
       "      <td>5.0</td>\n",
       "      <td>NaN</td>\n",
       "      <td>NaN</td>\n",
       "    </tr>\n",
       "  </tbody>\n",
       "</table>\n",
       "</div>"
      ],
      "text/plain": [
       "    Service  Age    CustomerSince Customer Gender   Region  \\\n",
       "0     fiber   29  6/23/2010 10:27               M    North   \n",
       "1        4G   74  6/23/2010 10:27               M    North   \n",
       "2     phone   34  6/23/2010 10:27               F  Central   \n",
       "3     phone   60  6/24/2010 10:27               M    North   \n",
       "4  landline   29  6/24/2010 10:27               M  Central   \n",
       "\n",
       "   SupportCallsLastYear  AverageBill  ChurnIndicator  Satisfaction Score  \\\n",
       "0                     2         61.0            0.32                 5.0   \n",
       "1                     0         48.0            0.02                 3.0   \n",
       "2                     0         34.0            0.02                 4.0   \n",
       "3                     5         70.0            0.23                 5.0   \n",
       "4                     5         40.0            0.09                 5.0   \n",
       "\n",
       "   Unnamed: 9  Unnamed: 10  \n",
       "0         NaN          NaN  \n",
       "1         NaN          NaN  \n",
       "2         NaN          NaN  \n",
       "3         NaN          NaN  \n",
       "4         NaN          NaN  "
      ]
     },
     "execution_count": 299,
     "metadata": {},
     "output_type": "execute_result"
    }
   ],
   "source": [
    "import pandas as pd\n",
    "\n",
    "import numpy as np\n",
    "\n",
    "# Read the CSV file into a DataFrame\n",
    "df = pd.read_csv('Consumer_Data_Final Project.csv')\n",
    "\n",
    "df.head()"
   ]
  },
  {
   "cell_type": "markdown",
   "id": "94620ef3-c5ba-4514-9887-38aee0b23aaf",
   "metadata": {},
   "source": [
    "### Data Cleaning and Preparation"
   ]
  },
  {
   "cell_type": "code",
   "execution_count": 301,
   "id": "7be07872-5ef5-4c73-bc46-fb195c95bad2",
   "metadata": {},
   "outputs": [
    {
     "name": "stdout",
     "output_type": "stream",
     "text": [
      "Missing values:\n",
      " Service                    0\n",
      "Age                        0\n",
      "CustomerSince              0\n",
      "Customer Gender            0\n",
      "Region                     0\n",
      "SupportCallsLastYear       0\n",
      "AverageBill                3\n",
      "ChurnIndicator             0\n",
      "Satisfaction Score         2\n",
      "Unnamed: 9              9993\n",
      "Unnamed: 10             9993\n",
      "dtype: int64\n"
     ]
    }
   ],
   "source": [
    "# Check for missing values\n",
    "missing_values = df.isnull().sum()\n",
    "print(\"Missing values:\\n\", missing_values)"
   ]
  },
  {
   "cell_type": "code",
   "execution_count": 302,
   "id": "730ea05c-8483-4fa1-9c50-12c57c86e2f7",
   "metadata": {},
   "outputs": [
    {
     "data": {
      "text/plain": [
       "0"
      ]
     },
     "execution_count": 302,
     "metadata": {},
     "output_type": "execute_result"
    }
   ],
   "source": [
    "# Replace missing value by average of the column\n",
    "\n",
    "mean=df['AverageBill'].mean()\n",
    "\n",
    "df.fillna({'AverageBill': mean}, inplace=True)\n",
    "\n",
    "#Check the number of missing values in a column\n",
    "df['AverageBill'].isna().sum()\n"
   ]
  },
  {
   "cell_type": "code",
   "execution_count": 303,
   "id": "d276fbcd-2f73-46e1-a659-80f55b9d30fd",
   "metadata": {},
   "outputs": [
    {
     "data": {
      "text/plain": [
       "0"
      ]
     },
     "execution_count": 303,
     "metadata": {},
     "output_type": "execute_result"
    }
   ],
   "source": [
    "mean1=df['Satisfaction Score'].mean()\n",
    "\n",
    "df.fillna({'Satisfaction Score': mean1}, inplace=True)\n",
    "\n",
    "#Check the number of missing values in a column\n",
    "df['Satisfaction Score'].isna().sum()"
   ]
  },
  {
   "cell_type": "code",
   "execution_count": 304,
   "id": "e1a8ac40-5142-43f1-a455-3e4e47d5456e",
   "metadata": {},
   "outputs": [
    {
     "name": "stdout",
     "output_type": "stream",
     "text": [
      "Missing values:\n",
      " Service                    0\n",
      "Age                        0\n",
      "CustomerSince              0\n",
      "Customer Gender            0\n",
      "Region                     0\n",
      "SupportCallsLastYear       0\n",
      "AverageBill                0\n",
      "ChurnIndicator             0\n",
      "Satisfaction Score         0\n",
      "Unnamed: 9              9993\n",
      "Unnamed: 10             9993\n",
      "dtype: int64\n"
     ]
    }
   ],
   "source": [
    "# Check for missing values\n",
    "missing_values = df.isnull().sum()\n",
    "print(\"Missing values:\\n\", missing_values)"
   ]
  },
  {
   "cell_type": "code",
   "execution_count": 305,
   "id": "7df58d65-5e95-4fa8-a087-444bda7279f3",
   "metadata": {},
   "outputs": [
    {
     "data": {
      "text/html": [
       "<div>\n",
       "<style scoped>\n",
       "    .dataframe tbody tr th:only-of-type {\n",
       "        vertical-align: middle;\n",
       "    }\n",
       "\n",
       "    .dataframe tbody tr th {\n",
       "        vertical-align: top;\n",
       "    }\n",
       "\n",
       "    .dataframe thead th {\n",
       "        text-align: right;\n",
       "    }\n",
       "</style>\n",
       "<table border=\"1\" class=\"dataframe\">\n",
       "  <thead>\n",
       "    <tr style=\"text-align: right;\">\n",
       "      <th></th>\n",
       "      <th>Service</th>\n",
       "      <th>Age</th>\n",
       "      <th>CustomerSince</th>\n",
       "      <th>Customer Gender</th>\n",
       "      <th>Region</th>\n",
       "      <th>SupportCallsLastYear</th>\n",
       "      <th>AverageBill</th>\n",
       "      <th>ChurnIndicator</th>\n",
       "      <th>Satisfaction Score</th>\n",
       "    </tr>\n",
       "  </thead>\n",
       "  <tbody>\n",
       "    <tr>\n",
       "      <th>0</th>\n",
       "      <td>fiber</td>\n",
       "      <td>29</td>\n",
       "      <td>6/23/2010 10:27</td>\n",
       "      <td>M</td>\n",
       "      <td>North</td>\n",
       "      <td>2</td>\n",
       "      <td>61.0</td>\n",
       "      <td>0.32</td>\n",
       "      <td>5.0</td>\n",
       "    </tr>\n",
       "    <tr>\n",
       "      <th>1</th>\n",
       "      <td>4G</td>\n",
       "      <td>74</td>\n",
       "      <td>6/23/2010 10:27</td>\n",
       "      <td>M</td>\n",
       "      <td>North</td>\n",
       "      <td>0</td>\n",
       "      <td>48.0</td>\n",
       "      <td>0.02</td>\n",
       "      <td>3.0</td>\n",
       "    </tr>\n",
       "    <tr>\n",
       "      <th>2</th>\n",
       "      <td>phone</td>\n",
       "      <td>34</td>\n",
       "      <td>6/23/2010 10:27</td>\n",
       "      <td>F</td>\n",
       "      <td>Central</td>\n",
       "      <td>0</td>\n",
       "      <td>34.0</td>\n",
       "      <td>0.02</td>\n",
       "      <td>4.0</td>\n",
       "    </tr>\n",
       "    <tr>\n",
       "      <th>3</th>\n",
       "      <td>phone</td>\n",
       "      <td>60</td>\n",
       "      <td>6/24/2010 10:27</td>\n",
       "      <td>M</td>\n",
       "      <td>North</td>\n",
       "      <td>5</td>\n",
       "      <td>70.0</td>\n",
       "      <td>0.23</td>\n",
       "      <td>5.0</td>\n",
       "    </tr>\n",
       "    <tr>\n",
       "      <th>4</th>\n",
       "      <td>landline</td>\n",
       "      <td>29</td>\n",
       "      <td>6/24/2010 10:27</td>\n",
       "      <td>M</td>\n",
       "      <td>Central</td>\n",
       "      <td>5</td>\n",
       "      <td>40.0</td>\n",
       "      <td>0.09</td>\n",
       "      <td>5.0</td>\n",
       "    </tr>\n",
       "  </tbody>\n",
       "</table>\n",
       "</div>"
      ],
      "text/plain": [
       "    Service  Age    CustomerSince Customer Gender   Region  \\\n",
       "0     fiber   29  6/23/2010 10:27               M    North   \n",
       "1        4G   74  6/23/2010 10:27               M    North   \n",
       "2     phone   34  6/23/2010 10:27               F  Central   \n",
       "3     phone   60  6/24/2010 10:27               M    North   \n",
       "4  landline   29  6/24/2010 10:27               M  Central   \n",
       "\n",
       "   SupportCallsLastYear  AverageBill  ChurnIndicator  Satisfaction Score  \n",
       "0                     2         61.0            0.32                 5.0  \n",
       "1                     0         48.0            0.02                 3.0  \n",
       "2                     0         34.0            0.02                 4.0  \n",
       "3                     5         70.0            0.23                 5.0  \n",
       "4                     5         40.0            0.09                 5.0  "
      ]
     },
     "execution_count": 305,
     "metadata": {},
     "output_type": "execute_result"
    }
   ],
   "source": [
    "#Remove empty columns\n",
    "\n",
    "df_cleaned = df.dropna(axis=1, how='all')\n",
    "\n",
    "df_cleaned.head()"
   ]
  },
  {
   "cell_type": "code",
   "execution_count": 306,
   "id": "a8e0dd85-0e2c-4099-a88d-9f2b2a6b867a",
   "metadata": {},
   "outputs": [
    {
     "name": "stdout",
     "output_type": "stream",
     "text": [
      "<class 'pandas.core.frame.DataFrame'>\n",
      "RangeIndex: 9993 entries, 0 to 9992\n",
      "Data columns (total 9 columns):\n",
      " #   Column                Non-Null Count  Dtype  \n",
      "---  ------                --------------  -----  \n",
      " 0   Service               9993 non-null   object \n",
      " 1   Age                   9993 non-null   int64  \n",
      " 2   CustomerSince         9993 non-null   object \n",
      " 3   Customer Gender       9993 non-null   object \n",
      " 4   Region                9993 non-null   object \n",
      " 5   SupportCallsLastYear  9993 non-null   int64  \n",
      " 6   AverageBill           9993 non-null   float64\n",
      " 7   ChurnIndicator        9993 non-null   float64\n",
      " 8   Satisfaction Score    9993 non-null   float64\n",
      "dtypes: float64(3), int64(2), object(4)\n",
      "memory usage: 702.8+ KB\n"
     ]
    }
   ],
   "source": [
    "df_cleaned.info()"
   ]
  },
  {
   "cell_type": "code",
   "execution_count": 307,
   "id": "577b6874-8040-42d5-b697-b5488fe6ca99",
   "metadata": {
    "scrolled": true
   },
   "outputs": [
    {
     "name": "stdout",
     "output_type": "stream",
     "text": [
      "       Service  Age     CustomerSince Customer Gender   Region  \\\n",
      "0        fiber   29   6/23/2010 10:27               M    North   \n",
      "1           4G   74   6/23/2010 10:27               M    North   \n",
      "2        phone   34   6/23/2010 10:27               F  Central   \n",
      "3        phone   60   6/24/2010 10:27               M    North   \n",
      "4     landline   29   6/24/2010 10:27               M  Central   \n",
      "...        ...  ...               ...             ...      ...   \n",
      "9988  landline   72  12/13/2015 10:27               M    North   \n",
      "9989        4G   29  12/13/2015 10:27               F  Central   \n",
      "9990     phone   41  12/14/2015 10:27               M  Central   \n",
      "9991        4G   43  12/14/2015 10:27               F  Central   \n",
      "9992        4G   76  12/14/2015 10:27               M  Central   \n",
      "\n",
      "      SupportCallsLastYear  AverageBill  ChurnIndicator  Satisfaction Score  \\\n",
      "0                        2         61.0            0.32                 5.0   \n",
      "1                        0         48.0            0.02                 3.0   \n",
      "2                        0         34.0            0.02                 4.0   \n",
      "3                        5         70.0            0.23                 5.0   \n",
      "4                        5         40.0            0.09                 5.0   \n",
      "...                    ...          ...             ...                 ...   \n",
      "9988                     1         39.0            0.00                 4.0   \n",
      "9989                     0         86.0            0.00                 7.0   \n",
      "9990                     6         50.0            0.00                 5.0   \n",
      "9991                     1         67.0            0.00                 7.0   \n",
      "9992                     1         90.0            0.00                 5.0   \n",
      "\n",
      "      z_scoreCI  is_outlierCI  \n",
      "0      1.679604         False  \n",
      "1     -0.271732         False  \n",
      "2     -0.271732         False  \n",
      "3      1.094203         False  \n",
      "4      0.183580         False  \n",
      "...         ...           ...  \n",
      "9988  -0.401821         False  \n",
      "9989  -0.401821         False  \n",
      "9990  -0.401821         False  \n",
      "9991  -0.401821         False  \n",
      "9992  -0.401821         False  \n",
      "\n",
      "[9993 rows x 11 columns]\n"
     ]
    },
    {
     "name": "stderr",
     "output_type": "stream",
     "text": [
      "/var/folders/8c/941r_n_s2fbc454lbfjb5fxh0000gn/T/ipykernel_21270/4197099815.py:5: SettingWithCopyWarning: \n",
      "A value is trying to be set on a copy of a slice from a DataFrame.\n",
      "Try using .loc[row_indexer,col_indexer] = value instead\n",
      "\n",
      "See the caveats in the documentation: https://pandas.pydata.org/pandas-docs/stable/user_guide/indexing.html#returning-a-view-versus-a-copy\n",
      "  df_cleaned['z_scoreCI'] = (df_cleaned['ChurnIndicator'] - df_cleaned['ChurnIndicator'].mean()) / df_cleaned['ChurnIndicator'].std()\n"
     ]
    }
   ],
   "source": [
    "#Detecting Outliers Using Z-Score\n",
    "import numpy as np\n",
    "\n",
    "# Calculate Z-scores\n",
    "df_cleaned['z_scoreCI'] = (df_cleaned['ChurnIndicator'] - df_cleaned['ChurnIndicator'].mean()) / df_cleaned['ChurnIndicator'].std()\n",
    "\n",
    "# Set a threshold for the Z-score\n",
    "threshold = 3\n",
    "\n",
    "# Detect outliers\n",
    "df_cleaned['is_outlierCI'] = df_cleaned['z_scoreCI'].apply(lambda x: abs(x) > threshold)\n",
    "\n",
    "# Display the dataset with outliers marked\n",
    "print(df_cleaned)"
   ]
  },
  {
   "cell_type": "code",
   "execution_count": 308,
   "id": "09750307-0a3b-4c41-99bc-fa3660cb1e25",
   "metadata": {
    "scrolled": true
   },
   "outputs": [
    {
     "name": "stdout",
     "output_type": "stream",
     "text": [
      "       Service  Age     CustomerSince Customer Gender   Region  \\\n",
      "0        fiber   29   6/23/2010 10:27               M    North   \n",
      "1           4G   74   6/23/2010 10:27               M    North   \n",
      "2        phone   34   6/23/2010 10:27               F  Central   \n",
      "3        phone   60   6/24/2010 10:27               M    North   \n",
      "4     landline   29   6/24/2010 10:27               M  Central   \n",
      "...        ...  ...               ...             ...      ...   \n",
      "9988  landline   72  12/13/2015 10:27               M    North   \n",
      "9989        4G   29  12/13/2015 10:27               F  Central   \n",
      "9990     phone   41  12/14/2015 10:27               M  Central   \n",
      "9991        4G   43  12/14/2015 10:27               F  Central   \n",
      "9992        4G   76  12/14/2015 10:27               M  Central   \n",
      "\n",
      "      SupportCallsLastYear  AverageBill  ChurnIndicator  Satisfaction Score  \\\n",
      "0                        2         61.0            0.32                 5.0   \n",
      "1                        0         48.0            0.02                 3.0   \n",
      "2                        0         34.0            0.02                 4.0   \n",
      "3                        5         70.0            0.23                 5.0   \n",
      "4                        5         40.0            0.09                 5.0   \n",
      "...                    ...          ...             ...                 ...   \n",
      "9988                     1         39.0            0.00                 4.0   \n",
      "9989                     0         86.0            0.00                 7.0   \n",
      "9990                     6         50.0            0.00                 5.0   \n",
      "9991                     1         67.0            0.00                 7.0   \n",
      "9992                     1         90.0            0.00                 5.0   \n",
      "\n",
      "      z_scoreCI  is_outlierCI  z_scoreSS  is_outlierSS  \n",
      "0      1.679604         False  -0.359588         False  \n",
      "1     -0.271732         False  -1.334658         False  \n",
      "2     -0.271732         False  -0.847123         False  \n",
      "3      1.094203         False  -0.359588         False  \n",
      "4      0.183580         False  -0.359588         False  \n",
      "...         ...           ...        ...           ...  \n",
      "9988  -0.401821         False  -0.847123         False  \n",
      "9989  -0.401821         False   0.615482         False  \n",
      "9990  -0.401821         False  -0.359588         False  \n",
      "9991  -0.401821         False   0.615482         False  \n",
      "9992  -0.401821         False  -0.359588         False  \n",
      "\n",
      "[9993 rows x 13 columns]\n"
     ]
    }
   ],
   "source": [
    "# Calculate Z-scores\n",
    "df_cleaned['z_scoreSS'] = (df_cleaned['Satisfaction Score'] - df_cleaned['Satisfaction Score'].mean()) / df_cleaned['Satisfaction Score'].std()\n",
    "\n",
    "# Set a threshold for the Z-score\n",
    "threshold = 3\n",
    "\n",
    "# Detect outliers\n",
    "df_cleaned['is_outlierSS'] = df_cleaned['z_scoreSS'].apply(lambda x: abs(x) > threshold)\n",
    "\n",
    "# Display the dataset with outliers marked\n",
    "print(df_cleaned)"
   ]
  },
  {
   "cell_type": "code",
   "execution_count": 309,
   "id": "3f62749b-f945-4f8b-9f46-c9550811cf0e",
   "metadata": {},
   "outputs": [
    {
     "data": {
      "text/plain": [
       "is_outlierCI\n",
       "False    9616\n",
       "True      377\n",
       "Name: count, dtype: int64"
      ]
     },
     "execution_count": 309,
     "metadata": {},
     "output_type": "execute_result"
    }
   ],
   "source": [
    "df_cleaned['is_outlierCI'].value_counts()"
   ]
  },
  {
   "cell_type": "code",
   "execution_count": 310,
   "id": "e0fe2856-7826-4b48-bd1e-a150a89add1b",
   "metadata": {},
   "outputs": [
    {
     "data": {
      "image/png": "[encoded data removed]",
      "text/plain": [
       "<Figure size 640x480 with 1 Axes>"
      ]
     },
     "metadata": {},
     "output_type": "display_data"
    }
   ],
   "source": [
    "import matplotlib.pyplot as plt\n",
    "\n",
    "# Plot a boxplot to visualize the outliers\n",
    "plt.boxplot(df_cleaned['ChurnIndicator'])\n",
    "plt.title('Box plot of values')\n",
    "plt.show()"
   ]
  },
  {
   "cell_type": "code",
   "execution_count": 311,
   "id": "bbcf04d7-6260-404a-a00d-6c09deb0747f",
   "metadata": {},
   "outputs": [
    {
     "data": {
      "text/plain": [
       "is_outlierSS\n",
       "False    9993\n",
       "Name: count, dtype: int64"
      ]
     },
     "execution_count": 311,
     "metadata": {},
     "output_type": "execute_result"
    }
   ],
   "source": [
    "df_cleaned['is_outlierSS'].value_counts()"
   ]
  },
  {
   "cell_type": "code",
   "execution_count": 312,
   "id": "434f115f-645e-4e82-be96-1bc53616d752",
   "metadata": {},
   "outputs": [
    {
     "data": {
      "image/png": "[encoded data removed]",
      "text/plain": [
       "<Figure size 640x480 with 1 Axes>"
      ]
     },
     "metadata": {},
     "output_type": "display_data"
    }
   ],
   "source": [
    "# Plot a boxplot to visualize the outliers\n",
    "plt.boxplot(df_cleaned['Satisfaction Score'])\n",
    "plt.title('Box plot of values')\n",
    "plt.show()"
   ]
  },
  {
   "cell_type": "code",
   "execution_count": 313,
   "id": "3185c324-01c8-4c2c-8151-55425e12b3a1",
   "metadata": {},
   "outputs": [
    {
     "name": "stdout",
     "output_type": "stream",
     "text": [
      "       Service  Age     CustomerSince Customer Gender   Region  \\\n",
      "0        fiber   29   6/23/2010 10:27               M    North   \n",
      "1           4G   74   6/23/2010 10:27               M    North   \n",
      "2        phone   34   6/23/2010 10:27               F  Central   \n",
      "3        phone   60   6/24/2010 10:27               M    North   \n",
      "4     landline   29   6/24/2010 10:27               M  Central   \n",
      "...        ...  ...               ...             ...      ...   \n",
      "9988  landline   72  12/13/2015 10:27               M    North   \n",
      "9989        4G   29  12/13/2015 10:27               F  Central   \n",
      "9990     phone   41  12/14/2015 10:27               M  Central   \n",
      "9991        4G   43  12/14/2015 10:27               F  Central   \n",
      "9992        4G   76  12/14/2015 10:27               M  Central   \n",
      "\n",
      "      SupportCallsLastYear  AverageBill  ChurnIndicator  Satisfaction Score  \\\n",
      "0                        2         61.0            0.32                 5.0   \n",
      "1                        0         48.0            0.02                 3.0   \n",
      "2                        0         34.0            0.02                 4.0   \n",
      "3                        5         70.0            0.23                 5.0   \n",
      "4                        5         40.0            0.09                 5.0   \n",
      "...                    ...          ...             ...                 ...   \n",
      "9988                     1         39.0            0.00                 4.0   \n",
      "9989                     0         86.0            0.00                 7.0   \n",
      "9990                     6         50.0            0.00                 5.0   \n",
      "9991                     1         67.0            0.00                 7.0   \n",
      "9992                     1         90.0            0.00                 5.0   \n",
      "\n",
      "      z_scoreCI  is_outlierCI  z_scoreSS  is_outlierSS  z_scoreAB  \\\n",
      "0      1.679604         False  -0.359588         False  -0.442123   \n",
      "1     -0.271732         False  -1.334658         False  -0.989247   \n",
      "2     -0.271732         False  -0.847123         False  -1.578457   \n",
      "3      1.094203         False  -0.359588         False  -0.063345   \n",
      "4      0.183580         False  -0.359588         False  -1.325938   \n",
      "...         ...           ...        ...           ...        ...   \n",
      "9988  -0.401821         False  -0.847123         False  -1.368025   \n",
      "9989  -0.401821         False   0.615482         False   0.610039   \n",
      "9990  -0.401821         False  -0.359588         False  -0.905074   \n",
      "9991  -0.401821         False   0.615482         False  -0.189604   \n",
      "9992  -0.401821         False  -0.359588         False   0.778385   \n",
      "\n",
      "      is_outlierAB  \n",
      "0            False  \n",
      "1            False  \n",
      "2            False  \n",
      "3            False  \n",
      "4            False  \n",
      "...            ...  \n",
      "9988         False  \n",
      "9989         False  \n",
      "9990         False  \n",
      "9991         False  \n",
      "9992         False  \n",
      "\n",
      "[9993 rows x 15 columns]\n"
     ]
    }
   ],
   "source": [
    "# Calculate Z-scores\n",
    "df_cleaned['z_scoreAB'] = (df_cleaned['AverageBill'] - df_cleaned['AverageBill'].mean()) / df_cleaned['AverageBill'].std()\n",
    "\n",
    "# Set a threshold for the Z-score\n",
    "threshold = 3\n",
    "\n",
    "# Detect outliers\n",
    "df_cleaned['is_outlierAB'] = df_cleaned['z_scoreAB'].apply(lambda x: abs(x) > threshold)\n",
    "\n",
    "# Display the dataset with outliers marked\n",
    "print(df_cleaned)"
   ]
  },
  {
   "cell_type": "code",
   "execution_count": 314,
   "id": "81d6b17f-59c6-4c7c-950f-f0cd43f4cccc",
   "metadata": {},
   "outputs": [
    {
     "name": "stdout",
     "output_type": "stream",
     "text": [
      "(array([], dtype=int64),)\n"
     ]
    }
   ],
   "source": [
    "outliers = np.where(np.abs(df_cleaned['is_outlierAB']) > threshold)\n",
    "\n",
    "print(outliers)"
   ]
  },
  {
   "cell_type": "code",
   "execution_count": 315,
   "id": "b15a82df-79fa-4e31-9302-25541b23395d",
   "metadata": {},
   "outputs": [
    {
     "data": {
      "text/plain": [
       "is_outlierAB\n",
       "False    9993\n",
       "Name: count, dtype: int64"
      ]
     },
     "execution_count": 315,
     "metadata": {},
     "output_type": "execute_result"
    }
   ],
   "source": [
    "df_cleaned['is_outlierAB'].value_counts()"
   ]
  },
  {
   "cell_type": "code",
   "execution_count": 316,
   "id": "16e55f76-5a80-45f5-855b-126e03634bf4",
   "metadata": {},
   "outputs": [
    {
     "data": {
      "image/png": "[encoded data removed]",
      "text/plain": [
       "<Figure size 640x480 with 1 Axes>"
      ]
     },
     "metadata": {},
     "output_type": "display_data"
    }
   ],
   "source": [
    "import matplotlib.pyplot as plt\n",
    "\n",
    "# Plot a boxplot to visualize the outliers\n",
    "plt.boxplot(df_cleaned['AverageBill'])\n",
    "plt.title('Box plot of values')\n",
    "plt.show()"
   ]
  },
  {
   "cell_type": "code",
   "execution_count": 317,
   "id": "2271c116-c62f-4de7-a5ce-6da218fc8161",
   "metadata": {},
   "outputs": [
    {
     "name": "stdout",
     "output_type": "stream",
     "text": [
      "       Service  Age     CustomerSince Customer Gender   Region  \\\n",
      "0        fiber   29   6/23/2010 10:27               M    North   \n",
      "1           4G   74   6/23/2010 10:27               M    North   \n",
      "2        phone   34   6/23/2010 10:27               F  Central   \n",
      "3        phone   60   6/24/2010 10:27               M    North   \n",
      "4     landline   29   6/24/2010 10:27               M  Central   \n",
      "...        ...  ...               ...             ...      ...   \n",
      "9988  landline   72  12/13/2015 10:27               M    North   \n",
      "9989        4G   29  12/13/2015 10:27               F  Central   \n",
      "9990     phone   41  12/14/2015 10:27               M  Central   \n",
      "9991        4G   43  12/14/2015 10:27               F  Central   \n",
      "9992        4G   76  12/14/2015 10:27               M  Central   \n",
      "\n",
      "      SupportCallsLastYear  AverageBill  ChurnIndicator  Satisfaction Score  \\\n",
      "0                        2         61.0            0.32                 5.0   \n",
      "1                        0         48.0            0.02                 3.0   \n",
      "2                        0         34.0            0.02                 4.0   \n",
      "3                        5         70.0            0.23                 5.0   \n",
      "4                        5         40.0            0.09                 5.0   \n",
      "...                    ...          ...             ...                 ...   \n",
      "9988                     1         39.0            0.00                 4.0   \n",
      "9989                     0         86.0            0.00                 7.0   \n",
      "9990                     6         50.0            0.00                 5.0   \n",
      "9991                     1         67.0            0.00                 7.0   \n",
      "9992                     1         90.0            0.00                 5.0   \n",
      "\n",
      "      z_scoreCI  is_outlierCI  z_scoreSS  is_outlierSS  z_scoreAB  \\\n",
      "0      1.679604         False  -0.359588         False  -0.442123   \n",
      "1     -0.271732         False  -1.334658         False  -0.989247   \n",
      "2     -0.271732         False  -0.847123         False  -1.578457   \n",
      "3      1.094203         False  -0.359588         False  -0.063345   \n",
      "4      0.183580         False  -0.359588         False  -1.325938   \n",
      "...         ...           ...        ...           ...        ...   \n",
      "9988  -0.401821         False  -0.847123         False  -1.368025   \n",
      "9989  -0.401821         False   0.615482         False   0.610039   \n",
      "9990  -0.401821         False  -0.359588         False  -0.905074   \n",
      "9991  -0.401821         False   0.615482         False  -0.189604   \n",
      "9992  -0.401821         False  -0.359588         False   0.778385   \n",
      "\n",
      "      is_outlierAB  is_outlier_CI_iqr  \n",
      "0            False               True  \n",
      "1            False              False  \n",
      "2            False              False  \n",
      "3            False               True  \n",
      "4            False               True  \n",
      "...            ...                ...  \n",
      "9988         False              False  \n",
      "9989         False              False  \n",
      "9990         False              False  \n",
      "9991         False              False  \n",
      "9992         False              False  \n",
      "\n",
      "[9993 rows x 16 columns]\n"
     ]
    }
   ],
   "source": [
    "# Detecting Outliers Using Interquartile Range (IQR)\n",
    "\n",
    "Q1 = df_cleaned['ChurnIndicator'].quantile(0.25)  # First quartile (25th percentile)\n",
    "Q3 = df_cleaned['ChurnIndicator'].quantile(0.75)  # Third quartile (75th percentile)\n",
    "IQR = Q3 - Q1  # Interquartile range\n",
    "\n",
    "# Set thresholds for outliers\n",
    "lower_bound = Q1 - 1.5 * IQR\n",
    "upper_bound = Q3 + 1.5 * IQR\n",
    "\n",
    "# Detect outliers\n",
    "df_cleaned['is_outlier_CI_iqr'] = df['ChurnIndicator'].apply(lambda x: x < lower_bound or x > upper_bound)\n",
    "\n",
    "# Display the dataset with outliers marked using IQR\n",
    "print(df_cleaned)\n"
   ]
  },
  {
   "cell_type": "code",
   "execution_count": 339,
   "id": "c02538a4-9031-48ac-bc82-acad2c66d9e6",
   "metadata": {},
   "outputs": [
    {
     "name": "stdout",
     "output_type": "stream",
     "text": [
      "0.01\n",
      "       Service  Age     CustomerSince Customer Gender   Region  \\\n",
      "0        fiber   29   6/23/2010 10:27               M    North   \n",
      "1           4G   74   6/23/2010 10:27               M    North   \n",
      "2        phone   34   6/23/2010 10:27               F  Central   \n",
      "3        phone   60   6/24/2010 10:27               M    North   \n",
      "4     landline   29   6/24/2010 10:27               M  Central   \n",
      "...        ...  ...               ...             ...      ...   \n",
      "9988  landline   72  12/13/2015 10:27               M    North   \n",
      "9989        4G   29  12/13/2015 10:27               F  Central   \n",
      "9990     phone   41  12/14/2015 10:27               M  Central   \n",
      "9991        4G   43  12/14/2015 10:27               F  Central   \n",
      "9992        4G   76  12/14/2015 10:27               M  Central   \n",
      "\n",
      "      SupportCallsLastYear  AverageBill  ChurnIndicator  Satisfaction Score  \\\n",
      "0                        2         61.0            0.01                 5.0   \n",
      "1                        0         48.0            0.02                 3.0   \n",
      "2                        0         34.0            0.02                 4.0   \n",
      "3                        5         70.0            0.01                 5.0   \n",
      "4                        5         40.0            0.01                 5.0   \n",
      "...                    ...          ...             ...                 ...   \n",
      "9988                     1         39.0            0.00                 4.0   \n",
      "9989                     0         86.0            0.00                 7.0   \n",
      "9990                     6         50.0            0.00                 5.0   \n",
      "9991                     1         67.0            0.00                 7.0   \n",
      "9992                     1         90.0            0.00                 5.0   \n",
      "\n",
      "      z_scoreCI  is_outlierCI  z_scoreSS  is_outlierSS  z_scoreAB  \\\n",
      "0      1.679604         False  -0.359588         False  -0.442123   \n",
      "1     -0.271732         False  -1.334658         False  -0.989247   \n",
      "2     -0.271732         False  -0.847123         False  -1.578457   \n",
      "3      1.094203         False  -0.359588         False  -0.063345   \n",
      "4      0.183580         False  -0.359588         False  -1.325938   \n",
      "...         ...           ...        ...           ...        ...   \n",
      "9988  -0.401821         False  -0.847123         False  -1.368025   \n",
      "9989  -0.401821         False   0.615482         False   0.610039   \n",
      "9990  -0.401821         False  -0.359588         False  -0.905074   \n",
      "9991  -0.401821         False   0.615482         False  -0.189604   \n",
      "9992  -0.401821         False  -0.359588         False   0.778385   \n",
      "\n",
      "      is_outlierAB  is_outlier_CI_iqr  \n",
      "0            False               True  \n",
      "1            False              False  \n",
      "2            False              False  \n",
      "3            False               True  \n",
      "4            False               True  \n",
      "...            ...                ...  \n",
      "9988         False              False  \n",
      "9989         False              False  \n",
      "9990         False              False  \n",
      "9991         False              False  \n",
      "9992         False              False  \n",
      "\n",
      "[9993 rows x 16 columns]\n"
     ]
    }
   ],
   "source": [
    "# Handling Outliers by Replacing Them with the Median\n",
    "\n",
    "median_value = df_cleaned['ChurnIndicator'].median()\n",
    "\n",
    "print(median_value)\n",
    "\n",
    "df_cleaned['ChurnIndicator'] = np.where(df_cleaned['is_outlier_CI_iqr'], median_value, df_cleaned['ChurnIndicator'])\n",
    "\n",
    "print(df_cleaned)"
   ]
  },
  {
   "cell_type": "code",
   "execution_count": 345,
   "id": "c3e53178-53d6-48a7-bb68-acce2c59a694",
   "metadata": {},
   "outputs": [
    {
     "data": {
      "image/png": "[encoded data removed]",
      "text/plain": [
       "<Figure size 640x480 with 1 Axes>"
      ]
     },
     "metadata": {},
     "output_type": "display_data"
    }
   ],
   "source": [
    "# Plot a boxplot to visualize the outliers\n",
    "plt.boxplot(df_cleaned['ChurnIndicator'])\n",
    "plt.title('Box plot of values')\n",
    "plt.show()"
   ]
  },
  {
   "cell_type": "code",
   "execution_count": null,
   "id": "e91cad9d-c2cb-441f-9d74-3c154f814880",
   "metadata": {},
   "outputs": [],
   "source": []
  }
 ],
 "metadata": {
  "colab": {
   "provenance": []
  },
  "kernelspec": {
   "display_name": "Python [conda env:base] *",
   "language": "python",
   "name": "conda-base-py"
  },
  "language_info": {
   "codemirror_mode": {
    "name": "ipython",
    "version": 3
   },
   "file_extension": ".py",
   "mimetype": "text/x-python",
   "name": "python",
   "nbconvert_exporter": "python",
   "pygments_lexer": "ipython3",
   "version": "3.12.7"
  }
 },
 "nbformat": 4,
 "nbformat_minor": 5
}

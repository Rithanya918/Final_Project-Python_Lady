{
  "cells": [
    {
      "cell_type": "markdown",
      "id": "e1162082-10fd-4196-bad3-a8f7b71125fc",
      "metadata": {
        "id": "e1162082-10fd-4196-bad3-a8f7b71125fc"
      },
      "source": [
        "## Final Project"
      ]
    },
    {
      "cell_type": "markdown",
      "source": [
        "## Hey girl, hey"
      ],
      "metadata": {
        "id": "_LaicnyaNvTB"
      },
      "id": "_LaicnyaNvTB"
    },
    {
      "cell_type": "code",
      "execution_count": null,
      "id": "cae54f1a-e8f1-4f55-9af9-db48bec6a1d0",
      "metadata": {
        "id": "cae54f1a-e8f1-4f55-9af9-db48bec6a1d0"
      },
      "outputs": [],
      "source": []
    }
  ],
  "metadata": {
    "kernelspec": {
      "display_name": "Python [conda env:base] *",
      "language": "python",
      "name": "conda-base-py"
    },
    "language_info": {
      "codemirror_mode": {
        "name": "ipython",
        "version": 3
      },
      "file_extension": ".py",
      "mimetype": "text/x-python",
      "name": "python",
      "nbconvert_exporter": "python",
      "pygments_lexer": "ipython3",
      "version": "3.12.7"
    },
    "colab": {
      "provenance": []
    }
  },
  "nbformat": 4,
  "nbformat_minor": 5
}
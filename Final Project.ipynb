{
 "cells": [
  {
   "cell_type": "markdown",
   "id": "e1162082-10fd-4196-bad3-a8f7b71125fc",
   "metadata": {
    "id": "e1162082-10fd-4196-bad3-a8f7b71125fc"
   },
   "source": [
    "## Final Project"
   ]
  },
  {
   "cell_type": "markdown",
   "id": "_LaicnyaNvTB",
   "metadata": {
    "id": "_LaicnyaNvTB"
   },
   "source": [
    "## Hey girl, hey"
   ]
  },
  {
   "cell_type": "markdown",
   "id": "df5d6450-1aaf-4073-8cf4-a86f8461fe49",
   "metadata": {
    "id": "cae54f1a-e8f1-4f55-9af9-db48bec6a1d0"
   },
   "source": [
    "## TEST THANKS CARRIMA HEWITT"
   ]
  }
 ],
 "metadata": {
  "colab": {
   "provenance": []
  },
  "kernelspec": {
   "display_name": "Python [conda env:base] *",
   "language": "python",
   "name": "conda-base-py"
  },
  "language_info": {
   "codemirror_mode": {
    "name": "ipython",
    "version": 3
   },
   "file_extension": ".py",
   "mimetype": "text/x-python",
   "name": "python",
   "nbconvert_exporter": "python",
   "pygments_lexer": "ipython3",
   "version": "3.12.7"
  }
 },
 "nbformat": 4,
 "nbformat_minor": 5
}

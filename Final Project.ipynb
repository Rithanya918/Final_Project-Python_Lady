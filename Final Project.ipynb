{
 "cells": [
  {
   "cell_type": "markdown",
   "id": "e1162082-10fd-4196-bad3-a8f7b71125fc",
   "metadata": {
    "id": "e1162082-10fd-4196-bad3-a8f7b71125fc"
   },
   "source": [
    "## Final Project"
   ]
  },
  {
   "cell_type": "code",
   "execution_count": 5,
   "id": "f2c4e0f3-2559-4fe4-a0e3-6acccc777d21",
   "metadata": {},
   "outputs": [
    {
     "name": "stdout",
     "output_type": "stream",
     "text": [
      "    Service  Age    CustomerSince Customer Gender   Region  \\\n",
      "0     fiber   29  6/23/2010 10:27               M    North   \n",
      "1        4G   74  6/23/2010 10:27               M    North   \n",
      "2     phone   34  6/23/2010 10:27               F  Central   \n",
      "3     phone   60  6/24/2010 10:27               M    North   \n",
      "4  landline   29  6/24/2010 10:27               M  Central   \n",
      "\n",
      "   SupportCallsLastYear  AverageBill  ChurnIndicator  Satisfaction Score  \\\n",
      "0                     2         61.0            0.32                 5.0   \n",
      "1                     0         48.0            0.02                 3.0   \n",
      "2                     0         34.0            0.02                 4.0   \n",
      "3                     5         70.0            0.23                 5.0   \n",
      "4                     5         40.0            0.09                 5.0   \n",
      "\n",
      "   Unnamed: 9  Unnamed: 10  \n",
      "0         NaN          NaN  \n",
      "1         NaN          NaN  \n",
      "2         NaN          NaN  \n",
      "3         NaN          NaN  \n",
      "4         NaN          NaN  \n"
     ]
    }
   ],
   "source": [
    "import pandas as pd\n",
    "\n",
    "# Read the CSV file into a DataFrame\n",
    "df = pd.read_csv('Consumer_Data_Final Project.csv')\n",
    "\n",
    "# Print the DataFrame\n",
    "print(df.head())"
   ]
  },
  {
   "cell_type": "markdown",
   "id": "94620ef3-c5ba-4514-9887-38aee0b23aaf",
   "metadata": {},
   "source": [
    "### Data Cleaning and Preparation"
   ]
  },
  {
   "cell_type": "code",
   "execution_count": 13,
   "id": "7be07872-5ef5-4c73-bc46-fb195c95bad2",
   "metadata": {},
   "outputs": [
    {
     "name": "stdout",
     "output_type": "stream",
     "text": [
      "Missing values:\n",
      " Service                    0\n",
      "Age                        0\n",
      "CustomerSince              0\n",
      "Customer Gender            0\n",
      "Region                     0\n",
      "SupportCallsLastYear       0\n",
      "AverageBill                3\n",
      "ChurnIndicator             0\n",
      "Satisfaction Score         2\n",
      "Unnamed: 9              9993\n",
      "Unnamed: 10             9993\n",
      "dtype: int64\n"
     ]
    }
   ],
   "source": [
    "# Check for missing values\n",
    "missing_values = df.isnull().sum()\n",
    "print(\"Missing values:\\n\", missing_values)\n",
    "\n"
   ]
  },
  {
   "cell_type": "code",
   "execution_count": 11,
   "id": "977c9dec-7cad-46e4-9cff-4f0ade2b8277",
   "metadata": {},
   "outputs": [
    {
     "name": "stdout",
     "output_type": "stream",
     "text": [
      "Service                    0\n",
      "Age                        0\n",
      "CustomerSince              0\n",
      "Customer Gender            0\n",
      "Region                     0\n",
      "SupportCallsLastYear       0\n",
      "AverageBill                3\n",
      "ChurnIndicator             0\n",
      "Satisfaction Score         2\n",
      "Unnamed: 9              9993\n",
      "Unnamed: 10             9993\n",
      "dtype: int64\n"
     ]
    }
   ],
   "source": []
  },
  {
   "cell_type": "code",
   "execution_count": null,
   "id": "730ea05c-8483-4fa1-9c50-12c57c86e2f7",
   "metadata": {},
   "outputs": [],
   "source": []
  }
 ],
 "metadata": {
  "colab": {
   "provenance": []
  },
  "kernelspec": {
   "display_name": "Python [conda env:base] *",
   "language": "python",
   "name": "conda-base-py"
  },
  "language_info": {
   "codemirror_mode": {
    "name": "ipython",
    "version": 3
   },
   "file_extension": ".py",
   "mimetype": "text/x-python",
   "name": "python",
   "nbconvert_exporter": "python",
   "pygments_lexer": "ipython3",
   "version": "3.12.7"
  }
 },
 "nbformat": 4,
 "nbformat_minor": 5
}

{
 "cells": [
  {
   "cell_type": "markdown",
   "id": "e1162082-10fd-4196-bad3-a8f7b71125fc",
   "metadata": {
    "id": "e1162082-10fd-4196-bad3-a8f7b71125fc"
   },
   "source": [
    "## Final Project"
   ]
  },
  {
   "cell_type": "code",
   "execution_count": 9,
   "id": "f2c4e0f3-2559-4fe4-a0e3-6acccc777d21",
   "metadata": {},
   "outputs": [
    {
     "name": "stdout",
     "output_type": "stream",
     "text": [
      "    Service  Age    CustomerSince Customer Gender   Region  \\\n",
      "0     fiber   29  6/23/2010 10:27               M    North   \n",
      "1        4G   74  6/23/2010 10:27               M    North   \n",
      "2     phone   34  6/23/2010 10:27               F  Central   \n",
      "3     phone   60  6/24/2010 10:27               M    North   \n",
      "4  landline   29  6/24/2010 10:27               M  Central   \n",
      "\n",
      "   SupportCallsLastYear  AverageBill  ChurnIndicator  Satisfaction Score  \\\n",
      "0                     2         61.0            0.32                 5.0   \n",
      "1                     0         48.0            0.02                 3.0   \n",
      "2                     0         34.0            0.02                 4.0   \n",
      "3                     5         70.0            0.23                 5.0   \n",
      "4                     5         40.0            0.09                 5.0   \n",
      "\n",
      "   Unnamed: 9  Unnamed: 10  \n",
      "0         NaN          NaN  \n",
      "1         NaN          NaN  \n",
      "2         NaN          NaN  \n",
      "3         NaN          NaN  \n",
      "4         NaN          NaN  \n"
     ]
    }
   ],
   "source": [
    "import pandas as pd\n",
    "\n",
    "# Read the CSV file into a DataFrame\n",
    "df = pd.read_csv('Consumer_Data_Final Project.csv')\n",
    "\n",
    "# Print the DataFrame\n",
    "print(df.head())"
   ]
  },
  {
   "cell_type": "code",
   "execution_count": null,
   "id": "9eabc936-a5c7-48b2-9e3a-4e1b43da9a31",
   "metadata": {},
   "outputs": [],
   "source": []
  }
 ],
 "metadata": {
  "colab": {
   "provenance": []
  },
  "kernelspec": {
   "display_name": "Python [conda env:base] *",
   "language": "python",
   "name": "conda-base-py"
  },
  "language_info": {
   "codemirror_mode": {
    "name": "ipython",
    "version": 3
   },
   "file_extension": ".py",
   "mimetype": "text/x-python",
   "name": "python",
   "nbconvert_exporter": "python",
   "pygments_lexer": "ipython3",
   "version": "3.12.7"
  }
 },
 "nbformat": 4,
 "nbformat_minor": 5
}
